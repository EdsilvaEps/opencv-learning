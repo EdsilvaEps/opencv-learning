{
 "cells": [
  {
   "cell_type": "code",
   "execution_count": 1,
   "metadata": {},
   "outputs": [],
   "source": [
    "import numpy as np\n",
    "from numpy import genfromtxt"
   ]
  },
  {
   "cell_type": "code",
   "execution_count": 2,
   "metadata": {},
   "outputs": [],
   "source": [
    "# generate array from text file\n",
    "data = genfromtxt('Computer-Vision-with-Python/DATA/bank_note_data.txt', delimiter=',')"
   ]
  },
  {
   "cell_type": "code",
   "execution_count": 3,
   "metadata": {},
   "outputs": [
    {
     "data": {
      "text/plain": [
       "array([[  3.6216 ,   8.6661 ,  -2.8073 ,  -0.44699,   0.     ],\n",
       "       [  4.5459 ,   8.1674 ,  -2.4586 ,  -1.4621 ,   0.     ],\n",
       "       [  3.866  ,  -2.6383 ,   1.9242 ,   0.10645,   0.     ],\n",
       "       ...,\n",
       "       [ -3.7503 , -13.4586 ,  17.5932 ,  -2.7771 ,   1.     ],\n",
       "       [ -3.5637 ,  -8.3827 ,  12.393  ,  -1.2823 ,   1.     ],\n",
       "       [ -2.5419 ,  -0.65804,   2.6842 ,   1.1952 ,   1.     ]])"
      ]
     },
     "execution_count": 3,
     "metadata": {},
     "output_type": "execute_result"
    }
   ],
   "source": [
    "data"
   ]
  },
  {
   "cell_type": "code",
   "execution_count": 4,
   "metadata": {},
   "outputs": [],
   "source": [
    "labels = data[:,4]"
   ]
  },
  {
   "cell_type": "code",
   "execution_count": 5,
   "metadata": {},
   "outputs": [
    {
     "data": {
      "text/plain": [
       "array([0., 0., 0., ..., 1., 1., 1.])"
      ]
     },
     "execution_count": 5,
     "metadata": {},
     "output_type": "execute_result"
    }
   ],
   "source": [
    "labels"
   ]
  },
  {
   "cell_type": "code",
   "execution_count": 6,
   "metadata": {},
   "outputs": [],
   "source": [
    "features = data[:,0:4]"
   ]
  },
  {
   "cell_type": "code",
   "execution_count": 7,
   "metadata": {},
   "outputs": [
    {
     "data": {
      "text/plain": [
       "array([[  3.6216 ,   8.6661 ,  -2.8073 ,  -0.44699],\n",
       "       [  4.5459 ,   8.1674 ,  -2.4586 ,  -1.4621 ],\n",
       "       [  3.866  ,  -2.6383 ,   1.9242 ,   0.10645],\n",
       "       ...,\n",
       "       [ -3.7503 , -13.4586 ,  17.5932 ,  -2.7771 ],\n",
       "       [ -3.5637 ,  -8.3827 ,  12.393  ,  -1.2823 ],\n",
       "       [ -2.5419 ,  -0.65804,   2.6842 ,   1.1952 ]])"
      ]
     },
     "execution_count": 7,
     "metadata": {},
     "output_type": "execute_result"
    }
   ],
   "source": [
    "features"
   ]
  },
  {
   "cell_type": "code",
   "execution_count": 8,
   "metadata": {},
   "outputs": [],
   "source": [
    "X = features\n",
    "y = labels"
   ]
  },
  {
   "cell_type": "code",
   "execution_count": 10,
   "metadata": {},
   "outputs": [],
   "source": [
    "from sklearn.model_selection import train_test_split"
   ]
  },
  {
   "cell_type": "code",
   "execution_count": 11,
   "metadata": {},
   "outputs": [],
   "source": [
    "X_train, X_test, y_train, y_test = train_test_split(X, y, test_size=0.33, random_state=42)"
   ]
  },
  {
   "cell_type": "code",
   "execution_count": 14,
   "metadata": {},
   "outputs": [
    {
     "name": "stdout",
     "output_type": "stream",
     "text": [
      "-13.2869\n",
      "17.1116\n"
     ]
    }
   ],
   "source": [
    "print(X_test.min())\n",
    "print(X_test.max())"
   ]
  },
  {
   "cell_type": "code",
   "execution_count": 15,
   "metadata": {},
   "outputs": [],
   "source": [
    "# normalizer\n",
    "from sklearn.preprocessing import MinMaxScaler"
   ]
  },
  {
   "cell_type": "code",
   "execution_count": 16,
   "metadata": {},
   "outputs": [],
   "source": [
    "scaler_object = MinMaxScaler()"
   ]
  },
  {
   "cell_type": "code",
   "execution_count": 17,
   "metadata": {},
   "outputs": [
    {
     "data": {
      "text/plain": [
       "MinMaxScaler(copy=True, feature_range=(0, 1))"
      ]
     },
     "execution_count": 17,
     "metadata": {},
     "output_type": "execute_result"
    }
   ],
   "source": [
    "scaler_object.fit(X_train) # do not fit the test set, only train"
   ]
  },
  {
   "cell_type": "code",
   "execution_count": 18,
   "metadata": {},
   "outputs": [],
   "source": [
    "scaled_X_train =  scaler_object.transform(X_train)"
   ]
  },
  {
   "cell_type": "code",
   "execution_count": 19,
   "metadata": {},
   "outputs": [],
   "source": [
    "scaled_X_test = scaler_object.transform(X_test)"
   ]
  },
  {
   "cell_type": "code",
   "execution_count": 20,
   "metadata": {},
   "outputs": [
    {
     "data": {
      "text/plain": [
       "1.0000000000000002"
      ]
     },
     "execution_count": 20,
     "metadata": {},
     "output_type": "execute_result"
    }
   ],
   "source": [
    "scaled_X_train.max()"
   ]
  },
  {
   "cell_type": "code",
   "execution_count": 21,
   "metadata": {},
   "outputs": [
    {
     "data": {
      "text/plain": [
       "array([[4.44850688e-01, 5.14130449e-01, 2.18194638e-01, 8.50172258e-01],\n",
       "       [6.53339968e-01, 5.82655745e-01, 9.93242398e-02, 8.17696322e-01],\n",
       "       [4.81846700e-01, 6.69377018e-01, 3.61193167e-01, 7.63368407e-01],\n",
       "       ...,\n",
       "       [4.11050776e-04, 8.63104170e-01, 2.34046756e-01, 3.74261253e-01],\n",
       "       [2.58284115e-01, 6.16029366e-01, 2.33861752e-01, 7.02643151e-01],\n",
       "       [2.65661395e-01, 2.44444278e-01, 7.20316361e-01, 7.44775785e-01]])"
      ]
     },
     "execution_count": 21,
     "metadata": {},
     "output_type": "execute_result"
    }
   ],
   "source": [
    "scaled_X_train # values now between 0 and 1"
   ]
  },
  {
   "cell_type": "code",
   "execution_count": 25,
   "metadata": {},
   "outputs": [],
   "source": [
    "from keras.models import Sequential\n",
    "from keras.layers import Dense"
   ]
  },
  {
   "cell_type": "code",
   "execution_count": 27,
   "metadata": {},
   "outputs": [],
   "source": [
    "model = Sequential()\n",
    "\n",
    "model.add(Dense(4,input_dim=4, activation='relu'))\n",
    "\n",
    "model.add(Dense(8,activation='relu'))\n",
    "\n",
    "model.add(Dense(1,activation='sigmoid'))"
   ]
  },
  {
   "cell_type": "code",
   "execution_count": 28,
   "metadata": {},
   "outputs": [],
   "source": [
    "model.compile(loss='binary_crossentropy', optimizer='adam', metrics=['accuracy'])"
   ]
  },
  {
   "cell_type": "code",
   "execution_count": 32,
   "metadata": {},
   "outputs": [
    {
     "name": "stdout",
     "output_type": "stream",
     "text": [
      "Epoch 1/50\n",
      " - 0s - loss: 0.2476 - accuracy: 0.9184\n",
      "Epoch 2/50\n",
      " - 0s - loss: 0.2398 - accuracy: 0.9217\n",
      "Epoch 3/50\n",
      " - 0s - loss: 0.2329 - accuracy: 0.9217\n",
      "Epoch 4/50\n",
      " - 0s - loss: 0.2254 - accuracy: 0.9282\n",
      "Epoch 5/50\n",
      " - 0s - loss: 0.2181 - accuracy: 0.9336\n",
      "Epoch 6/50\n",
      " - 0s - loss: 0.2114 - accuracy: 0.9314\n",
      "Epoch 7/50\n",
      " - 0s - loss: 0.2051 - accuracy: 0.9304\n",
      "Epoch 8/50\n",
      " - 0s - loss: 0.1987 - accuracy: 0.9336\n",
      "Epoch 9/50\n",
      " - 0s - loss: 0.1923 - accuracy: 0.9369\n",
      "Epoch 10/50\n",
      " - 0s - loss: 0.1864 - accuracy: 0.9369\n",
      "Epoch 11/50\n",
      " - 0s - loss: 0.1807 - accuracy: 0.9380\n",
      "Epoch 12/50\n",
      " - 0s - loss: 0.1745 - accuracy: 0.9402\n",
      "Epoch 13/50\n",
      " - 0s - loss: 0.1690 - accuracy: 0.9478\n",
      "Epoch 14/50\n",
      " - 0s - loss: 0.1644 - accuracy: 0.9467\n",
      "Epoch 15/50\n",
      " - 0s - loss: 0.1588 - accuracy: 0.9489\n",
      "Epoch 16/50\n",
      " - 0s - loss: 0.1548 - accuracy: 0.9532\n",
      "Epoch 17/50\n",
      " - 0s - loss: 0.1503 - accuracy: 0.9521\n",
      "Epoch 18/50\n",
      " - 0s - loss: 0.1456 - accuracy: 0.9587\n",
      "Epoch 19/50\n",
      " - 0s - loss: 0.1416 - accuracy: 0.9543\n",
      "Epoch 20/50\n",
      " - 0s - loss: 0.1367 - accuracy: 0.9587\n",
      "Epoch 21/50\n",
      " - 0s - loss: 0.1331 - accuracy: 0.9587\n",
      "Epoch 22/50\n",
      " - 0s - loss: 0.1293 - accuracy: 0.9597\n",
      "Epoch 23/50\n",
      " - 0s - loss: 0.1261 - accuracy: 0.9597\n",
      "Epoch 24/50\n",
      " - 0s - loss: 0.1230 - accuracy: 0.9587\n",
      "Epoch 25/50\n",
      " - 0s - loss: 0.1193 - accuracy: 0.9619\n",
      "Epoch 26/50\n",
      " - 0s - loss: 0.1164 - accuracy: 0.9619\n",
      "Epoch 27/50\n",
      " - 0s - loss: 0.1137 - accuracy: 0.9630\n",
      "Epoch 28/50\n",
      " - 0s - loss: 0.1111 - accuracy: 0.9619\n",
      "Epoch 29/50\n",
      " - 0s - loss: 0.1085 - accuracy: 0.9619\n",
      "Epoch 30/50\n",
      " - 0s - loss: 0.1056 - accuracy: 0.9630\n",
      "Epoch 31/50\n",
      " - 0s - loss: 0.1032 - accuracy: 0.9663\n",
      "Epoch 32/50\n",
      " - 0s - loss: 0.1015 - accuracy: 0.9663\n",
      "Epoch 33/50\n",
      " - 0s - loss: 0.0993 - accuracy: 0.9706\n",
      "Epoch 34/50\n",
      " - 0s - loss: 0.0970 - accuracy: 0.9674\n",
      "Epoch 35/50\n",
      " - 0s - loss: 0.0949 - accuracy: 0.9663\n",
      "Epoch 36/50\n",
      " - 0s - loss: 0.0930 - accuracy: 0.9663\n",
      "Epoch 37/50\n",
      " - 0s - loss: 0.0910 - accuracy: 0.9674\n",
      "Epoch 38/50\n",
      " - 0s - loss: 0.0895 - accuracy: 0.9695\n",
      "Epoch 39/50\n",
      " - 0s - loss: 0.0875 - accuracy: 0.9717\n",
      "Epoch 40/50\n",
      " - 0s - loss: 0.0863 - accuracy: 0.9706\n",
      "Epoch 41/50\n",
      " - 0s - loss: 0.0838 - accuracy: 0.9717\n",
      "Epoch 42/50\n",
      " - 0s - loss: 0.0813 - accuracy: 0.9695\n",
      "Epoch 43/50\n",
      " - 0s - loss: 0.0790 - accuracy: 0.9750\n",
      "Epoch 44/50\n",
      " - 0s - loss: 0.0770 - accuracy: 0.9750\n",
      "Epoch 45/50\n",
      " - 0s - loss: 0.0747 - accuracy: 0.9717\n",
      "Epoch 46/50\n",
      " - 0s - loss: 0.0724 - accuracy: 0.9826\n",
      "Epoch 47/50\n",
      " - 0s - loss: 0.0710 - accuracy: 0.9771\n",
      "Epoch 48/50\n",
      " - 0s - loss: 0.0690 - accuracy: 0.9815\n",
      "Epoch 49/50\n",
      " - 0s - loss: 0.0671 - accuracy: 0.9859\n",
      "Epoch 50/50\n",
      " - 0s - loss: 0.0660 - accuracy: 0.9815\n"
     ]
    },
    {
     "data": {
      "text/plain": [
       "<keras.callbacks.callbacks.History at 0x7f77ec1397b8>"
      ]
     },
     "execution_count": 32,
     "metadata": {},
     "output_type": "execute_result"
    }
   ],
   "source": [
    "model.fit(scaled_X_train,y_train, epochs=50, verbose=2) # verbose gives information back"
   ]
  },
  {
   "cell_type": "code",
   "execution_count": 34,
   "metadata": {},
   "outputs": [],
   "source": [
    "#model.predict_classes(scaled_X_test)"
   ]
  },
  {
   "cell_type": "code",
   "execution_count": 35,
   "metadata": {},
   "outputs": [
    {
     "data": {
      "text/plain": [
       "['loss', 'accuracy']"
      ]
     },
     "execution_count": 35,
     "metadata": {},
     "output_type": "execute_result"
    }
   ],
   "source": [
    "model.metrics_names"
   ]
  },
  {
   "cell_type": "code",
   "execution_count": 36,
   "metadata": {},
   "outputs": [],
   "source": [
    "from sklearn.metrics import confusion_matrix, classification_report"
   ]
  },
  {
   "cell_type": "code",
   "execution_count": 37,
   "metadata": {},
   "outputs": [
    {
     "data": {
      "text/plain": [
       "array([[251,   6],\n",
       "       [  3, 193]])"
      ]
     },
     "execution_count": 37,
     "metadata": {},
     "output_type": "execute_result"
    }
   ],
   "source": [
    "predictions = model.predict_classes(scaled_X_test)\n",
    "confusion_matrix(y_test, predictions)"
   ]
  },
  {
   "cell_type": "code",
   "execution_count": 38,
   "metadata": {},
   "outputs": [
    {
     "name": "stdout",
     "output_type": "stream",
     "text": [
      "              precision    recall  f1-score   support\n",
      "\n",
      "         0.0       0.99      0.98      0.98       257\n",
      "         1.0       0.97      0.98      0.98       196\n",
      "\n",
      "    accuracy                           0.98       453\n",
      "   macro avg       0.98      0.98      0.98       453\n",
      "weighted avg       0.98      0.98      0.98       453\n",
      "\n"
     ]
    }
   ],
   "source": [
    "print(classification_report(y_test, predictions))"
   ]
  },
  {
   "cell_type": "code",
   "execution_count": 39,
   "metadata": {},
   "outputs": [],
   "source": [
    "# save the model\n",
    "model.save('mymodel.h5')"
   ]
  },
  {
   "cell_type": "code",
   "execution_count": 41,
   "metadata": {},
   "outputs": [],
   "source": [
    "from keras.models import load_model\n",
    "\n",
    "newmodel = load_model('mymodel.h5')"
   ]
  },
  {
   "cell_type": "code",
   "execution_count": 43,
   "metadata": {},
   "outputs": [],
   "source": [
    "#newmodel.predict_classes(scaled_X_test)"
   ]
  },
  {
   "cell_type": "code",
   "execution_count": null,
   "metadata": {},
   "outputs": [],
   "source": []
  }
 ],
 "metadata": {
  "kernelspec": {
   "display_name": "Python 3",
   "language": "python",
   "name": "python3"
  },
  "language_info": {
   "codemirror_mode": {
    "name": "ipython",
    "version": 3
   },
   "file_extension": ".py",
   "mimetype": "text/x-python",
   "name": "python",
   "nbconvert_exporter": "python",
   "pygments_lexer": "ipython3",
   "version": "3.6.7"
  }
 },
 "nbformat": 4,
 "nbformat_minor": 4
}
