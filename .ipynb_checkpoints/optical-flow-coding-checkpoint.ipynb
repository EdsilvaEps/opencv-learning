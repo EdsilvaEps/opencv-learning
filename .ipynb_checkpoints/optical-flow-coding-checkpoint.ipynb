{
 "cells": [
  {
   "cell_type": "code",
   "execution_count": 1,
   "metadata": {},
   "outputs": [],
   "source": [
    "import cv2\n",
    "import numpy as np\n",
    "import matplotlib.pyplot as plt\n",
    "%matplotlib inline"
   ]
  },
  {
   "cell_type": "code",
   "execution_count": 2,
   "metadata": {},
   "outputs": [],
   "source": [
    "# params for corner detecting\n",
    "corner_tracking_params = dict(maxCorners = 20, qualityLevel = 0.3, minDistance = 7, blockSize = 7)"
   ]
  },
  {
   "cell_type": "code",
   "execution_count": 3,
   "metadata": {},
   "outputs": [],
   "source": [
    "# winSize -> smaller window = more sensitive to noise, may miss larger motion \n",
    "#         -> bigger window = catch larger motion but less sensitive\n",
    "# maxLevel -> image pyramid (0 = use original image, 1 = 1/2 resolution\n",
    "# 2 = 1/4 resolution and so on.)\n",
    "# criteria -> we're providing two criteria for the algoritm (epsilon = 0.3 and count = 10)\n",
    "# more iterations means a more exhaustive search for the pixels\n",
    "# a smaller epsilon means the search finishes earlier.\n",
    "# those criteria means SPEED X ACCURACY\n",
    "lk_params = dict(winSize=(200,200), maxLevel = 2, criteria = (cv2.TERM_CRITERIA_EPS | cv2.TERM_CRITERIA_COUNT, 10, 0.03))"
   ]
  },
  {
   "cell_type": "code",
   "execution_count": 10,
   "metadata": {},
   "outputs": [],
   "source": [
    "import time\n",
    "\n",
    "\n",
    "cap = cv2.VideoCapture('y2mate.com - moscows_traffic_during_a_normal_day_myPM-BV4s6M_360p.mp4')\n",
    "\n",
    "ret, prev_frame = cap.read()\n",
    "\n",
    "prev_gray = cv2.cvtColor(prev_frame, cv2.COLOR_BGR2GRAY)\n",
    "\n",
    "# PTS TO TRACK \n",
    "prevPts = cv2.goodFeaturesToTrack(prev_gray, mask=None, **corner_tracking_params)\n",
    "\n",
    "# mask is a way of visualizing things\n",
    "mask = np.zeros_like(prev_frame)\n",
    "\n",
    "while cap.isOpened():\n",
    "    \n",
    "    ret, frame = cap.read()\n",
    "    \n",
    "    if ret == True:\n",
    "        \n",
    "        frame_gray = cv2.cvtColor(frame, cv2.COLOR_BGR2GRAY)\n",
    "    \n",
    "        # function that calculates the optical flow using the Lucas Kanade algorithm\n",
    "        # args: previous image, next image, previous points to track, next points to track (None, because that will be an output)\n",
    "        # and parameters for the algorithm.\n",
    "        nextPts, status, err = cv2.calcOpticalFlowPyrLK(prev_gray, frame_gray, prevPts, None, **lk_params)\n",
    "    \n",
    "    \n",
    "        # status output is a vector that outputs 1 if the flow has been found\n",
    "        \n",
    "        \n",
    "        try:\n",
    "            good_prev = prevPts[status==1]\n",
    "            good_new = nextPts[status==1]\n",
    "        except TypeError:\n",
    "            print('empty array nextPts')\n",
    "        finally:\n",
    "            #print('tryina fix')\n",
    "            ret, prev_frame = cap.read()\n",
    "            prevPts = cv2.goodFeaturesToTrack(prev_gray, mask=None, **corner_tracking_params)\n",
    "            prev_gray = cv2.cvtColor(prev_frame, cv2.COLOR_BGR2GRAY)\n",
    "\n",
    "            \n",
    "    \n",
    "        for i, (new,prev) in enumerate(zip(good_new,good_prev)):\n",
    "        \n",
    "            x_new, y_new = new.ravel() # flattening the array\n",
    "            x_prev, y_prev = prev.ravel()\n",
    "        \n",
    "            # mask draws a line between the previous points to the new ones\n",
    "            mask = cv2.line(mask, (x_new, y_new), (x_prev, y_prev), (0,255,0), 3)\n",
    "        \n",
    "            frame = cv2.circle(frame,(x_new, y_new), 8, (0,0,255), -1)\n",
    "        \n",
    "    \n",
    "        \n",
    "        \n",
    "        # add the mask to the image\n",
    "        img = cv2.add(frame,mask)\n",
    "        time.sleep(1/20)\n",
    "        cv2.imshow('tracking', img)\n",
    "    \n",
    "        k = cv2.waitKey(30) & 0xFF\n",
    "        if k == 27:\n",
    "            break\n",
    "        \n",
    "        prev_gray = frame_gray.copy()\n",
    "        prevPts = good_new.reshape(-1,1,2)\n",
    "    \n",
    "    else: break\n",
    "    \n",
    "cap.release()\n",
    "cv2.destroyAllWindows()\n"
   ]
  },
  {
   "cell_type": "code",
   "execution_count": null,
   "metadata": {},
   "outputs": [],
   "source": []
  },
  {
   "cell_type": "code",
   "execution_count": null,
   "metadata": {},
   "outputs": [],
   "source": []
  }
 ],
 "metadata": {
  "kernelspec": {
   "display_name": "Python 3",
   "language": "python",
   "name": "python3"
  },
  "language_info": {
   "codemirror_mode": {
    "name": "ipython",
    "version": 3
   },
   "file_extension": ".py",
   "mimetype": "text/x-python",
   "name": "python",
   "nbconvert_exporter": "python",
   "pygments_lexer": "ipython3",
   "version": "3.6.7"
  }
 },
 "nbformat": 4,
 "nbformat_minor": 4
}
